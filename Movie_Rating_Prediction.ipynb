{
 "cells": [
  {
   "cell_type": "markdown",
   "id": "caa71456-8167-48a2-a937-b182ac69cf7f",
   "metadata": {},
   "source": [
    "### Task 2:- Movie Rating Prediction"
   ]
  },
  {
   "cell_type": "code",
   "execution_count": null,
   "id": "5b6622b0-ace1-43f8-ae23-05c5af8665de",
   "metadata": {},
   "outputs": [],
   "source": [
    "import pandas as pd\n",
    "import numpy as np\n",
    "import matplotlib.pyplot as plt\n",
    "import seaborn as sns\n",
    "from sklearn.model_selection import train_test_split\n",
    "from sklearn.linear_model import LogisticRegression\n",
    "from sklearn.svm import SVC , LinearSVC\n",
    "from sklearn.ensemble import RandomForestClassifier\n",
    "from sklearn.neighbors import KNeighborsClassifier\n",
    "from sklearn.naive_bayes import GaussianNB\n",
    "from sklearn.linear_model import Perceptron\n",
    "from sklearn.tree import DecisionTreeClassifier\n"
   ]
  },
  {
   "cell_type": "code",
   "execution_count": null,
   "id": "cf1eb286-e728-4863-96ac-1d01d03a0990",
   "metadata": {},
   "outputs": [],
   "source": [
    "# We have three seperate dat files, Importing and concating them.\n",
    "df_movie = pd.read_csv('movies.dat',sep=\"::\",engine='python',encoding='latin-1')\n",
    "df_movie\n"
   ]
  },
  {
   "cell_type": "code",
   "execution_count": null,
   "id": "58c2f01f-3bca-40f0-b719-5b6177b582d2",
   "metadata": {},
   "outputs": [],
   "source": [
    "df_movie.shape\n"
   ]
  },
  {
   "cell_type": "code",
   "execution_count": null,
   "id": "4b8d41fc-c4b5-4aa4-81a5-8e147ec5eb6b",
   "metadata": {},
   "outputs": [],
   "source": [
    "df_movie.columns=['MovieId','MovieName','Category']\n",
    "df_movie.dropna(inplace=True)\n",
    "df_movie.head()"
   ]
  },
  {
   "cell_type": "markdown",
   "id": "59b67940-ac7e-4ce0-8384-f5aa1d9aad76",
   "metadata": {},
   "source": [
    "##### Loading ratings.dat"
   ]
  },
  {
   "cell_type": "code",
   "execution_count": null,
   "id": "bd7eac3a-c266-4bcd-a4a5-1670c13be939",
   "metadata": {},
   "outputs": [],
   "source": [
    "df_rating = pd.read_csv('ratings.dat',sep=\"::\",engine='python',encoding='latin-1')\n",
    "df_rating"
   ]
  },
  {
   "cell_type": "code",
   "execution_count": null,
   "id": "a0e5c038-0f5a-45cd-9e58-98452a94c29b",
   "metadata": {},
   "outputs": [],
   "source": [
    "df_rating.columns=['Ids','MovieID','Ratings','TimeStamp']\n",
    "df_rating.dropna(inplace=True)\n",
    "df_rating.head()"
   ]
  },
  {
   "cell_type": "markdown",
   "id": "67c7cc7b-17f6-4cd9-ac3b-9d589ad471da",
   "metadata": {},
   "source": [
    "##### Loading users.dat"
   ]
  },
  {
   "cell_type": "code",
   "execution_count": null,
   "id": "783e3099-eb1f-4b73-ada8-a1b68b58914b",
   "metadata": {},
   "outputs": [],
   "source": [
    "df_user = pd.read_csv('users.dat',sep=\"::\",engine='python',encoding='latin-1')\n",
    "df_user"
   ]
  },
  {
   "cell_type": "code",
   "execution_count": null,
   "id": "96d85646-d09f-4df3-b2bc-c9608a66885a",
   "metadata": {},
   "outputs": [],
   "source": [
    "column_names = ['UserId', 'Gender', 'Age', 'Occupation', 'ZipCode']\n",
    "df_user.columns = column_names\n",
    "df_user.dropna(inplace=True)\n",
    "df_user.head()"
   ]
  },
  {
   "cell_type": "markdown",
   "id": "46446917-5e62-4c00-ad34-40bd037a2bde",
   "metadata": {},
   "source": [
    "##### Concatinating datasets"
   ]
  },
  {
   "cell_type": "code",
   "execution_count": null,
   "id": "0c6c55d1-841a-4a5c-a68a-33a8a256e0cd",
   "metadata": {},
   "outputs": [],
   "source": [
    "df_combined = pd.concat([df_user,df_rating,df_movie],axis=1)\n",
    "print(df_combined.head())"
   ]
  },
  {
   "cell_type": "markdown",
   "id": "785afe0b-c974-4793-82d9-af85178bbb0c",
   "metadata": {},
   "source": [
    "##### Visualizingthe age distributions"
   ]
  },
  {
   "cell_type": "code",
   "execution_count": null,
   "id": "f7c09ee5-b211-4dd6-b619-a55930b44bb9",
   "metadata": {},
   "outputs": [],
   "source": [
    "plt.figure(figsize=(5,2))\n",
    "plt.hist(df_user['Age'],bins=25,color='skyblue',edgecolor='Green')\n",
    "plt.title('User Age Distribution')\n",
    "plt.xlabel('Age')\n",
    "plt.ylabel('Number of Users')\n",
    "plt.grid(True)\n",
    "plt.show()"
   ]
  },
  {
   "cell_type": "code",
   "execution_count": null,
   "id": "03982d79-8d60-47aa-ae72-301804606ae4",
   "metadata": {},
   "outputs": [],
   "source": [
    "# Users ranging between age 20-30 are higher in number\n"
   ]
  },
  {
   "cell_type": "markdown",
   "id": "9d3f94a2-8516-4121-a57b-78c811c165de",
   "metadata": {},
   "source": [
    "##### User age distribution by group"
   ]
  },
  {
   "cell_type": "code",
   "execution_count": null,
   "id": "38b9114a-3423-4632-a0e2-410ba6876614",
   "metadata": {},
   "outputs": [],
   "source": [
    "age_bins = [0,18,25,35,45,55,65,100]\n",
    "age_labels=['0-18','19-25','26-35','36-45','46-55','56-65','66+']\n",
    "\n",
    "df_combined['Age Group'] = pd.cut(df_combined['Age'], bins=age_bins , labels= age_labels)\n",
    "df_combined[['Age','Age Group']].drop_duplicates()[:10]"
   ]
  },
  {
   "cell_type": "markdown",
   "id": "486c0132-26a4-4dd6-961b-931ecb404fdf",
   "metadata": {},
   "source": [
    "##### Visaulizing overall ratings by users"
   ]
  },
  {
   "cell_type": "code",
   "execution_count": null,
   "id": "ba6d0ffd-e8f8-420a-af3b-5837936fd816",
   "metadata": {},
   "outputs": [],
   "source": [
    "# count no of occurences for each rating\n",
    "ratings_count = df_rating['Ratings'].value_counts().sort_index()\n",
    "\n",
    "# creating a bar plot\n",
    "colors = ['green','blue','yellow','red']\n",
    "plt.figure(figsize=(10,5))\n",
    "ratings_count.plot(kind='bar',alpha=0.5,color = colors)\n",
    "plt.title(\"Distribution of User ratings\")\n",
    "plt.xlabel(\"Ratings\")\n",
    "plt.ylabel(\"Number of Ratings\")\n",
    "plt.xticks(rotation=0)\n",
    "plt.grid(True)\n",
    "plt.show()"
   ]
  },
  {
   "cell_type": "code",
   "execution_count": null,
   "id": "31925c32-9643-422d-bdcd-181f1c6174a2",
   "metadata": {},
   "outputs": [],
   "source": [
    "groupedby_moviename = df_combined.groupby('MovieName')\n",
    "groupedby_rating = df_combined.groupby('Ratings')\n",
    "groupedby_uid = df_combined.groupby('UserId')"
   ]
  },
  {
   "cell_type": "code",
   "execution_count": null,
   "id": "bcd4bd3e-40b0-494d-bb5e-9d7c5fda694a",
   "metadata": {},
   "outputs": [],
   "source": [
    "movies = df_combined.groupby('MovieName').size().sort_values(ascending=True)[:1000]\n",
    "print(movies)"
   ]
  },
  {
   "cell_type": "code",
   "execution_count": null,
   "id": "5594a101-8314-4125-98d5-fd6fcb33edc7",
   "metadata": {},
   "outputs": [],
   "source": [
    "Top_gun_data = groupedby_moviename.get_group('Top Gun (1986)')\n",
    "Top_gun_data.shape"
   ]
  },
  {
   "cell_type": "markdown",
   "id": "d89a2270-6bf7-43d6-a962-e9417011f8e3",
   "metadata": {},
   "source": [
    "#### Visualize user rating of movies"
   ]
  },
  {
   "cell_type": "code",
   "execution_count": null,
   "id": "3e140654-ad3d-4c53-936a-a4248fc5b1c8",
   "metadata": {},
   "outputs": [],
   "source": [
    "top_gun_data = df_combined[df_combined['MovieName']=='Top Gun (1986)']\n",
    "\n",
    "# Visualize rating for Top Gun\n",
    "plt.figure(figsize = (10,5))\n",
    "plt.hist(top_gun_data['Ratings'],bins=5,color='skyblue',edgecolor='black')\n",
    "plt.title(\"User rating for Top Gun\")\n",
    "plt.xlabel('rating')\n",
    "plt.ylabel('Number of Ratings')\n",
    "plt.xticks(range(1,6))\n",
    "plt.grid(True)\n",
    "plt.show()"
   ]
  },
  {
   "cell_type": "code",
   "execution_count": null,
   "id": "6b5414dd-c597-45d8-a558-06dda8d0ff44",
   "metadata": {},
   "outputs": [],
   "source": [
    "plt.figure(figsize=(10,5))\n",
    "plt.scatter(top_gun_data['MovieName'],top_gun_data['Ratings'])\n",
    "plt.title('PLot for Top Gun')\n",
    "plt.show()"
   ]
  },
  {
   "cell_type": "code",
   "execution_count": null,
   "id": "805f8112-394d-4ff4-8dba-cbf11a3ff481",
   "metadata": {},
   "outputs": [],
   "source": [
    "print(df_combined.head())"
   ]
  },
  {
   "cell_type": "code",
   "execution_count": null,
   "id": "524cf3a8-b1bc-43fe-a3e2-38f70094456f",
   "metadata": {},
   "outputs": [],
   "source": [
    "# Find and vsiaulize viewership of Top gun\n",
    "top_gun_data[['MovieName','Age Group']]"
   ]
  },
  {
   "cell_type": "markdown",
   "id": "50b69fd0-d162-4e24-9193-9e365ecbed66",
   "metadata": {},
   "source": [
    "#### Top 25 movies by Viewership Rating"
   ]
  },
  {
   "cell_type": "code",
   "execution_count": null,
   "id": "e972b08b-c26f-4433-a8f6-db6329e5c39c",
   "metadata": {},
   "outputs": [],
   "source": [
    "# Calculate average ratings for each movie\n",
    "movie_ratings = df_combined.groupby('MovieName')['Ratings'].mean()\n",
    "\n",
    "#Sort movies on average ratings\n",
    "sorted_movies = movie_ratings.sort_values(ascending=True)\n",
    "\n",
    "# Top 25 movies\n",
    "top_25_movies = sorted_movies.head(25)\n",
    "\n",
    "# Bar plot\n",
    "plt.figure(figsize=(15,6))\n",
    "color_palette = plt.cm.get_cmap('tab20',len(top_25_movies))\n",
    "top_25_movies.plot(kind='bar',color=color_palette.colors)\n",
    "plt.title(\"Top 25 movies according to viewerships\")\n",
    "plt.xlabel(\"Movie\")\n",
    "plt.ylabel(\"Average rating\")\n",
    "plt.xticks(rotation=90)\n",
    "plt.grid(True)\n",
    "plt.show()"
   ]
  },
  {
   "cell_type": "code",
   "execution_count": null,
   "id": "8a6e87f8-c17a-42e6-9ad8-103914c55532",
   "metadata": {},
   "outputs": [],
   "source": [
    "# Top 25\n",
    "# Visualize for rating id = 2696\n",
    "userid_2696 = groupedby_uid.get_group(2696)\n",
    "userid_2696[['UserId','Ratings']]"
   ]
  },
  {
   "cell_type": "code",
   "execution_count": null,
   "id": "627d7384-e683-4113-9a63-a0d27413c318",
   "metadata": {},
   "outputs": [],
   "source": [
    "# Filter data for id 2696\n",
    "user_2696_data = df_combined[df_combined['UserId']==2696]\n",
    "\n",
    "plt.figure(figsize=(15,6))\n",
    "user_2696_data['Ratings'].value_counts().sort_index().plot(kind='bar',color='peru')\n",
    "plt.title(\"Rating Distribution by UserID\")\n",
    "plt.xlabel('Rating')\n",
    "plt.ylabel('Number of Rating')\n",
    "plt.xticks(rotation=0)\n",
    "plt.grid(True)\n",
    "plt.show()"
   ]
  },
  {
   "cell_type": "code",
   "execution_count": null,
   "id": "a0c95245-8d7f-4aad-af6b-cad5c9729607",
   "metadata": {},
   "outputs": [],
   "source": []
  },
  {
   "cell_type": "code",
   "execution_count": null,
   "id": "7344b0f1-57eb-44b0-b9bc-3e74047e3e92",
   "metadata": {},
   "outputs": [],
   "source": [
    "# Group data by age group and calculate viewership_count\n",
    "age_group_viewership = top_gun_data.groupby('Age Group').size()\n",
    "\n",
    "plt.figure(figsize = (15,6))\n",
    "age_group_viewership.plot(kind='bar',color='purple')\n",
    "plt.title(\"Viewership by Age Group for 'Top Gun' \")\n",
    "plt.xlabel('Age Group')\n",
    "plt.ylabel('Number of Viewers')\n",
    "plt.xticks(rotation=0)\n",
    "plt.grid(True)\n",
    "plt.show()"
   ]
  },
  {
   "cell_type": "markdown",
   "id": "168d61b5-7306-4c83-8c9d-5228cb1ac151",
   "metadata": {},
   "source": [
    "#### Overall Rating Distribution by users"
   ]
  },
  {
   "cell_type": "code",
   "execution_count": null,
   "id": "8b32e9ee-004d-4482-b5a1-31d934a6aa51",
   "metadata": {},
   "outputs": [],
   "source": [
    "plt.figure(figsize = (15,6))\n",
    "plt.hist(df_combined['Ratings'],bins=5,color='skyblue',edgecolor='black')\n",
    "plt.title(\"'Overall Rating Distribution by usersl\")\n",
    "plt.xlabel('Rating')\n",
    "plt.ylabel('Number of Ratings')\n",
    "plt.xticks(range(1,6))\n",
    "plt.grid(True)\n",
    "plt.show()"
   ]
  },
  {
   "cell_type": "markdown",
   "id": "ab8d7966-00c2-4cc7-9077-6b0db4f91714",
   "metadata": {},
   "source": [
    "#### On first 500 records"
   ]
  },
  {
   "cell_type": "code",
   "execution_count": null,
   "id": "969ec391-2738-4147-8f0c-7e03cf4c53d0",
   "metadata": {},
   "outputs": [],
   "source": [
    "df_500 = df_combined.head(500)\n",
    "df_500.dropna(inplace=True)"
   ]
  },
  {
   "cell_type": "code",
   "execution_count": null,
   "id": "ba714536-7f92-4f49-9afd-ba196a754cf4",
   "metadata": {},
   "outputs": [],
   "source": [
    "# Using features like movieid,age,occupation\n",
    "\n",
    "features = df_500[['MovieId','Age','Occupation']].values"
   ]
  },
  {
   "cell_type": "code",
   "execution_count": null,
   "id": "649f94b6-29fa-46f8-9551-2c1944b89d76",
   "metadata": {},
   "outputs": [],
   "source": [
    "# Rating Label\n",
    "labels = df_500['Ratings'].values"
   ]
  },
  {
   "cell_type": "code",
   "execution_count": null,
   "id": "17958ebb-c90a-4914-839d-724f76f2eba5",
   "metadata": {},
   "outputs": [],
   "source": [
    "# Splitting data into testing and training data\n",
    "\n",
    "train,test,train_label,test_label = train_test_split(features,labels,test_size=0.3,random_state=42)"
   ]
  },
  {
   "cell_type": "code",
   "execution_count": null,
   "id": "960cb62b-b16a-44ad-95af-9d06ce40cff2",
   "metadata": {},
   "outputs": [],
   "source": [
    "# Display shapes of train,test\n",
    "print(\"X_train shape\",train.shape)\n",
    "print(\"Y_train shape\",train_label.shape)\n",
    "print(\"X_test shape\",test.shape)\n",
    "print(\"Y_test shape\",test_label.shape)"
   ]
  },
  {
   "cell_type": "code",
   "execution_count": null,
   "id": "2cee2c10-c253-4a90-a5bb-6edfdfcef523",
   "metadata": {},
   "outputs": [],
   "source": [
    "# Histogram for movie\n",
    "df_combined.Age.plot.hist(bins=25)\n",
    "plt.title('Movie and Rating')\n",
    "plt.xlabel('MovieID')\n",
    "plt.ylabel('Ratings')"
   ]
  },
  {
   "cell_type": "code",
   "execution_count": null,
   "id": "283e7bfe-a093-4231-b0aa-d3e2b9c96007",
   "metadata": {},
   "outputs": [],
   "source": [
    "# Histogram for age\n",
    "df_combined.Age.plot.hist(bins=25)\n",
    "plt.title('Age and Rating')\n",
    "plt.xlabel('Age')\n",
    "plt.ylabel('Ratings')"
   ]
  },
  {
   "cell_type": "code",
   "execution_count": null,
   "id": "a80ab5d5-8b26-4ac7-b80a-cf4aee0f8cfa",
   "metadata": {},
   "outputs": [],
   "source": [
    "# Histogram for Occupation\n",
    "df_combined.Age.plot.hist(bins=25)\n",
    "plt.title('Occupation and Rating')\n",
    "plt.xlabel('Occupation')\n",
    "plt.ylabel('Ratings')"
   ]
  },
  {
   "cell_type": "markdown",
   "id": "05aa3eb9-e8df-4757-85cc-1883bf646439",
   "metadata": {},
   "source": [
    "##### Logistic Regression"
   ]
  },
  {
   "cell_type": "code",
   "execution_count": null,
   "id": "0fca1e78-5571-4e31-81af-54caa3a14d4a",
   "metadata": {},
   "outputs": [],
   "source": [
    "logreg = LogisticRegression()\n",
    "logreg.fit(train,train_label)\n",
    "Y_pred =logreg.predict(test)\n",
    "acc_log = round(logreg.score(train,train_label) * 100,2)\n",
    "acc_log"
   ]
  },
  {
   "cell_type": "code",
   "execution_count": null,
   "id": "8a865637-ce51-4eaf-92a8-e96695ff4ea2",
   "metadata": {},
   "outputs": [],
   "source": [
    "# SVM\n",
    "svc = SVC()\n",
    "svc.fit(train,train_label)\n",
    "Y_pred = svc.predict(test)\n",
    "acc_svc = round(svc.score(train,train_label) * 100,2)\n",
    "acc_svc"
   ]
  },
  {
   "cell_type": "code",
   "execution_count": null,
   "id": "fcc3fcc4-220e-4827-b8fd-8b94d8e9519f",
   "metadata": {},
   "outputs": [],
   "source": [
    "# K Nearest Neighbour\n",
    "knn = KNeighborsClassifier(n_neighbors = 3)\n",
    "knn.fit(train,train_label)\n",
    "Y_pred = knn.predict(test)\n",
    "acc_knn = round(knn.score(train,train_label) * 100,2)\n",
    "acc_knn"
   ]
  },
  {
   "cell_type": "code",
   "execution_count": null,
   "id": "7874d01b-02de-49e5-bb12-f48c89236413",
   "metadata": {},
   "outputs": [],
   "source": [
    "# random Forest\n",
    "random_forest = RandomForestClassifier(n_estimators=100)\n",
    "random_forest.fit(train,train_label)\n",
    "Y_pred = random_forest.predict(test)\n",
    "random_forest.score(train,train_label)\n",
    "acc_random_forest = round(random_forest.score(train,train_label) *100,2)\n",
    "acc_random_forest"
   ]
  },
  {
   "cell_type": "code",
   "execution_count": null,
   "id": "bad1a05a-962a-4220-a454-f83fb5023e75",
   "metadata": {},
   "outputs": [],
   "source": [
    "models = pd.DataFrame({\n",
    "    'Model': ['Support vector Machines','Knn','Logistic Regression','Random Forest'],\n",
    "    'Score':[acc_svc,acc_knn,acc_log,acc_random_forest]\n",
    "})\n",
    "models.sort_values(by='Score',ascending=False)"
   ]
  },
  {
   "cell_type": "code",
   "execution_count": null,
   "id": "506c46f5-594f-4af6-bcb0-05d95fe635c0",
   "metadata": {},
   "outputs": [],
   "source": []
  }
 ],
 "metadata": {
  "kernelspec": {
   "display_name": "Python 3 (ipykernel)",
   "language": "python",
   "name": "python3"
  },
  "language_info": {
   "codemirror_mode": {
    "name": "ipython",
    "version": 3
   },
   "file_extension": ".py",
   "mimetype": "text/x-python",
   "name": "python",
   "nbconvert_exporter": "python",
   "pygments_lexer": "ipython3",
   "version": "3.10.7"
  }
 },
 "nbformat": 4,
 "nbformat_minor": 5
}
